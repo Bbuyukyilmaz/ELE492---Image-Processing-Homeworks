{
  "nbformat": 4,
  "nbformat_minor": 0,
  "metadata": {
    "colab": {
      "provenance": [],
      "authorship_tag": "ABX9TyPONRMR/r9xdh49P3/kGW0c",
      "include_colab_link": true
    },
    "kernelspec": {
      "name": "python3",
      "display_name": "Python 3"
    },
    "language_info": {
      "name": "python"
    }
  },
  "cells": [
    {
      "cell_type": "markdown",
      "metadata": {
        "id": "view-in-github",
        "colab_type": "text"
      },
      "source": [
        "<a href=\"https://colab.research.google.com/github/Bbuyukyilmaz/ELE492---Image-Processing-Homeworks/blob/main/HW5.ipynb\" target=\"_parent\"><img src=\"https://colab.research.google.com/assets/colab-badge.svg\" alt=\"Open In Colab\"/></a>"
      ]
    },
    {
      "cell_type": "code",
      "execution_count": 13,
      "metadata": {
        "colab": {
          "base_uri": "https://localhost:8080/"
        },
        "id": "--uPgt9JKndU",
        "outputId": "56be0f56-125e-47ec-9486-ec48e8b82d48"
      },
      "outputs": [
        {
          "output_type": "stream",
          "name": "stdout",
          "text": [
            "Total words find in file:  32\n"
          ]
        }
      ],
      "source": [
        "# Description : This code was written by Baris Buyukyilmaz for ELE492 first homework.\n",
        "# Reading a File Example\n",
        "\n",
        "f = open(\"/content/thesis\")     # open file\n",
        "num_words = 0                   # intialize # of word\n",
        "for line in f:                  # read each line\n",
        "  word_list = line.split()      # split each line word by word and put into the list\n",
        "  num_words += len(word_list)   # check length of list and add # of word\n",
        "f.close()                       # close file\n",
        "print(\"Total words find in file: \", num_words) # print # of word\n"
      ]
    }
  ]
}