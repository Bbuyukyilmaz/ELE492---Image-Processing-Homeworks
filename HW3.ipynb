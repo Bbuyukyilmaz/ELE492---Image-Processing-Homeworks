{
  "nbformat": 4,
  "nbformat_minor": 0,
  "metadata": {
    "colab": {
      "provenance": [],
      "authorship_tag": "ABX9TyN6D4Mq1+3CjlMWkZ/4yNgR",
      "include_colab_link": true
    },
    "kernelspec": {
      "name": "python3",
      "display_name": "Python 3"
    },
    "language_info": {
      "name": "python"
    }
  },
  "cells": [
    {
      "cell_type": "markdown",
      "metadata": {
        "id": "view-in-github",
        "colab_type": "text"
      },
      "source": [
        "<a href=\"https://colab.research.google.com/github/Bbuyukyilmaz/ELE492---Image-Processing-Homeworks/blob/main/HW3.ipynb\" target=\"_parent\"><img src=\"https://colab.research.google.com/assets/colab-badge.svg\" alt=\"Open In Colab\"/></a>"
      ]
    },
    {
      "cell_type": "code",
      "execution_count": 5,
      "metadata": {
        "colab": {
          "base_uri": "https://localhost:8080/"
        },
        "id": "BsoW4Hgh7tyy",
        "outputId": "a976bd6b-47e1-4b6e-f6f2-d885599276cd"
      },
      "outputs": [
        {
          "output_type": "stream",
          "name": "stdout",
          "text": [
            "2\n",
            "4\n"
          ]
        }
      ],
      "source": [
        "# Description : This code was written by Barış Büyükyılmaz for ELE492 first homework.\n",
        "# Write code returns the int index in the list of the first item whose value is value. \n",
        "# It is an error if there is no such item.\n",
        "\n",
        "\n",
        "def index(list, value):\n",
        "  index = 0\n",
        "  for item in list:\n",
        "    if item == value:\n",
        "      return index\n",
        "    index += 1\n",
        "\n",
        "gettysburg = [\"four\", \"score\", \"and\", \"seven\", \"years\", \"ago\"]\n",
        "print(index(gettysburg, \"and\"))\n",
        "print(index(gettysburg, \"years\"))"
      ]
    }
  ]
}