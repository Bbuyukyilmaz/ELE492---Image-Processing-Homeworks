{
  "nbformat": 4,
  "nbformat_minor": 0,
  "metadata": {
    "colab": {
      "provenance": [],
      "authorship_tag": "ABX9TyNnWGit5YrV596khBiKqt2H",
      "include_colab_link": true
    },
    "kernelspec": {
      "name": "python3",
      "display_name": "Python 3"
    },
    "language_info": {
      "name": "python"
    }
  },
  "cells": [
    {
      "cell_type": "markdown",
      "metadata": {
        "id": "view-in-github",
        "colab_type": "text"
      },
      "source": [
        "<a href=\"https://colab.research.google.com/github/Bbuyukyilmaz/ELE492---Image-Processing-Homeworks/blob/main/HW4.ipynb\" target=\"_parent\"><img src=\"https://colab.research.google.com/assets/colab-badge.svg\" alt=\"Open In Colab\"/></a>"
      ]
    },
    {
      "cell_type": "code",
      "execution_count": 2,
      "metadata": {
        "colab": {
          "base_uri": "https://localhost:8080/"
        },
        "id": "gBbNntPCHSQL",
        "outputId": "74ceffa8-6d00-482e-e4db-4a25552e9d05"
      },
      "outputs": [
        {
          "output_type": "stream",
          "name": "stdout",
          "text": [
            "[[0, 1, 2, 3, 4], [1, 2, 3, 4, 5], [2, 3, 4, 5, 6], [3, 4, 5, 6, 7], [4, 5, 6, 7, 8]]\n"
          ]
        }
      ],
      "source": [
        "# Description : This code was written by Baris Buyukyilmaz for ELE492 first homework.\n",
        "# Create a matrix were each element is the sum of it's row and column numbers.\n",
        "\n",
        "\n",
        "matrix = []\n",
        "\n",
        "for row_i in range(5):\n",
        "  row = []\n",
        "  for column_i in range(5):\n",
        "    row.append(row_i + column_i)\n",
        "  matrix.append(row)\n",
        "\n",
        "print(matrix)\n",
        "\n",
        "\n"
      ]
    }
  ]
}