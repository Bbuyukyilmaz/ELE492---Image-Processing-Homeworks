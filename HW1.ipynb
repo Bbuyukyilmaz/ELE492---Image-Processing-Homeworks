{
  "nbformat": 4,
  "nbformat_minor": 0,
  "metadata": {
    "colab": {
      "provenance": [],
      "authorship_tag": "ABX9TyP5VN1ACF2XdY2XHTrnlSuC",
      "include_colab_link": true
    },
    "kernelspec": {
      "name": "python3",
      "display_name": "Python 3"
    },
    "language_info": {
      "name": "python"
    }
  },
  "cells": [
    {
      "cell_type": "markdown",
      "metadata": {
        "id": "view-in-github",
        "colab_type": "text"
      },
      "source": [
        "<a href=\"https://colab.research.google.com/github/Bbuyukyilmaz/ELE492---Image-Processing-Homeworks/blob/main/HW1.ipynb\" target=\"_parent\"><img src=\"https://colab.research.google.com/assets/colab-badge.svg\" alt=\"Open In Colab\"/></a>"
      ]
    },
    {
      "cell_type": "code",
      "execution_count": 6,
      "metadata": {
        "colab": {
          "base_uri": "https://localhost:8080/"
        },
        "id": "ZbbTffiZ4lPQ",
        "outputId": "cb6e70c9-35e2-4b5c-bba5-355aedfc6c8a"
      },
      "outputs": [
        {
          "output_type": "stream",
          "name": "stdout",
          "text": [
            "[-40.0, -17.77777777777778, 0.0, 20.0, 37.0, 100.0]\n"
          ]
        }
      ],
      "source": [
        "# Description : This code was written by Barış Büyükyılmaz for ELE492 first homework.\n",
        "# The code convertes Fahrenheit to Centigrade, for Fahrenheit values of: -40, 0, 32, 68, 98.6, 212.\n",
        "# Formula to conversion => C = (F - 32) × 5/9\n",
        "\n",
        "Fahrenheit_degrees = [-40, 0, 32, 68, 98.6, 212]                                                   # Fahrenheit values.\n",
        "\n",
        "Centigrade_degrees = [(Fahrenheit_degree - 32) * 5/9 for Fahrenheit_degree in Fahrenheit_degrees]  # Create list Centigrade values for each Fahrenheit value.\n",
        "\n",
        "print(Centigrade_degrees)                                                                          # Print Centigrade list.\n",
        "\n",
        "\n"
      ]
    }
  ]
}
