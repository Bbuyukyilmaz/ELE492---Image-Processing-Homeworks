{
  "nbformat": 4,
  "nbformat_minor": 0,
  "metadata": {
    "colab": {
      "provenance": [],
      "mount_file_id": "1Z0A4-mOoduLjhic-ojqveqh3p2hPi02J",
      "authorship_tag": "ABX9TyNYHX/zYOR8sqSl3sTAcUYN",
      "include_colab_link": true
    },
    "kernelspec": {
      "name": "python3",
      "display_name": "Python 3"
    },
    "language_info": {
      "name": "python"
    }
  },
  "cells": [
    {
      "cell_type": "markdown",
      "metadata": {
        "id": "view-in-github",
        "colab_type": "text"
      },
      "source": [
        "<a href=\"https://colab.research.google.com/github/Bbuyukyilmaz/ELE492---Image-Processing-Homeworks/blob/main/HW2/HW2_2.ipynb\" target=\"_parent\"><img src=\"https://colab.research.google.com/assets/colab-badge.svg\" alt=\"Open In Colab\"/></a>"
      ]
    },
    {
      "cell_type": "code",
      "execution_count": 9,
      "metadata": {
        "id": "Wu2Rh_5CS-AP"
      },
      "outputs": [],
      "source": [
        "# Description : This code was written by Barış Büyükyılmaz for ELE492 second homework.\n",
        "# The code creates a dictionary of RGB values for the image, then converts it to an Excel file.\n",
        "\n",
        "from skimage import io\n",
        "import pandas as pd\n",
        "\n",
        "img = io.imread(\"drive/MyDrive/dog.jpg\")            # Read image\n",
        "\n",
        "                                      # Create Dictionary contain R, G, B values of image\n",
        "RGB = {\n",
        "        'R' : img.flatten()[::3],     # Convert image to 1d array and get every 3 data stating index 0\n",
        "        'G' : img.flatten()[1::3],    # Convert image to 1d array and get every 3 data stating index 1\n",
        "        'B' : img.flatten()[2::3]     # Convert image to 1d array and get every 3 data stating index 2\n",
        "}\n",
        "\n",
        "\n",
        "df = pd.DataFrame(RGB)                # Convert dict to data frame\n",
        "filepath = \"pixel_values1.xlsx\"       # Define filepath of excel file\n",
        "df.to_excel(filepath, index=False)    # Convert data frame to excel file\n",
        "\n",
        "\n"
      ]
    }
  ]
}