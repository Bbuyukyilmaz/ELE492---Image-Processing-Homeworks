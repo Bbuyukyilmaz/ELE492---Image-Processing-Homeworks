{
  "nbformat": 4,
  "nbformat_minor": 0,
  "metadata": {
    "colab": {
      "provenance": [],
      "authorship_tag": "ABX9TyNDTVnagFxore2w/0JGmjr8",
      "include_colab_link": true
    },
    "kernelspec": {
      "name": "python3",
      "display_name": "Python 3"
    },
    "language_info": {
      "name": "python"
    }
  },
  "cells": [
    {
      "cell_type": "markdown",
      "metadata": {
        "id": "view-in-github",
        "colab_type": "text"
      },
      "source": [
        "<a href=\"https://colab.research.google.com/github/Bbuyukyilmaz/ELE492---Image-Processing-Homeworks/blob/main/HW2/HW2_2.ipynb\" target=\"_parent\"><img src=\"https://colab.research.google.com/assets/colab-badge.svg\" alt=\"Open In Colab\"/></a>"
      ]
    },
    {
      "cell_type": "code",
      "source": [
        "!git clone https://github.com/Bbuyukyilmaz/ELE492---Image-Processing-Homeworks.git"
      ],
      "metadata": {
        "colab": {
          "base_uri": "https://localhost:8080/"
        },
        "id": "lItnMvKxLJSr",
        "outputId": "d9a481be-9f2a-4722-c768-dbc66ca587a5"
      },
      "execution_count": 3,
      "outputs": [
        {
          "output_type": "stream",
          "name": "stdout",
          "text": [
            "Cloning into 'ELE492---Image-Processing-Homeworks'...\n",
            "remote: Enumerating objects: 62, done.\u001b[K\n",
            "remote: Counting objects: 100% (62/62), done.\u001b[K\n",
            "remote: Compressing objects: 100% (55/55), done.\u001b[K\n",
            "remote: Total 62 (delta 27), reused 3 (delta 0), pack-reused 0\u001b[K\n",
            "Unpacking objects: 100% (62/62), 166.90 KiB | 3.97 MiB/s, done.\n"
          ]
        }
      ]
    },
    {
      "cell_type": "code",
      "execution_count": 4,
      "metadata": {
        "id": "Wu2Rh_5CS-AP"
      },
      "outputs": [],
      "source": [
        "# Description : This code was written by Barış Büyükyılmaz for ELE492 second homework.\n",
        "# The code creates a dictionary of RGB values for the image, then converts it to an Excel file.\n",
        "\n",
        "from skimage import io\n",
        "import pandas as pd\n",
        "\n",
        "img = io.imread(\"/content/ELE492---Image-Processing-Homeworks/HW2/dog.jpg\")            # Read image\n",
        "\n",
        "                                      # Create Dictionary contain R, G, B values of image\n",
        "RGB = {\n",
        "        'R' : img.flatten()[::3],     # Convert image to 1d array and get every 3 data stating index 0\n",
        "        'G' : img.flatten()[1::3],    # Convert image to 1d array and get every 3 data stating index 1\n",
        "        'B' : img.flatten()[2::3]     # Convert image to 1d array and get every 3 data stating index 2\n",
        "}\n",
        "\n",
        "\n",
        "df = pd.DataFrame(RGB)                # Convert dict to data frame\n",
        "filepath = \"pixel_values1.xlsx\"       # Define filepath of excel file\n",
        "df.to_excel(filepath, index=False)    # Convert data frame to excel file\n",
        "\n",
        "\n"
      ]
    }
  ]
}