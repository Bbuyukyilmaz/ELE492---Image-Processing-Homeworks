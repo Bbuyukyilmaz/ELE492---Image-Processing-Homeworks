{
  "nbformat": 4,
  "nbformat_minor": 0,
  "metadata": {
    "colab": {
      "provenance": [],
      "authorship_tag": "ABX9TyPdPXhKBnmyFoHcvxYjAjon",
      "include_colab_link": true
    },
    "kernelspec": {
      "name": "python3",
      "display_name": "Python 3"
    },
    "language_info": {
      "name": "python"
    }
  },
  "cells": [
    {
      "cell_type": "markdown",
      "metadata": {
        "id": "view-in-github",
        "colab_type": "text"
      },
      "source": [
        "<a href=\"https://colab.research.google.com/github/Bbuyukyilmaz/ELE492---Image-Processing-Homeworks/blob/main/HW2.ipynb\" target=\"_parent\"><img src=\"https://colab.research.google.com/assets/colab-badge.svg\" alt=\"Open In Colab\"/></a>"
      ]
    },
    {
      "cell_type": "code",
      "execution_count": 6,
      "metadata": {
        "colab": {
          "base_uri": "https://localhost:8080/"
        },
        "id": "vUlUb6k0way5",
        "outputId": "d394616a-3a65-484f-82b2-5d2696e056ef"
      },
      "outputs": [
        {
          "output_type": "stream",
          "name": "stdout",
          "text": [
            "<function double at 0x7f5789ba3e50>\n",
            "1.772004514666935\n",
            "3\n",
            "6.28\n",
            "-0.9999987317275395\n"
          ]
        }
      ],
      "source": [
        "# Description : This code was written by Barış Büyükyılmaz for ELE492 first homework.\n",
        "# The code shows that functions can be used as expression in Python.\n",
        "\n",
        "import math\n",
        "\n",
        "# Define function that doubles input.\n",
        "def double(number):\n",
        "  return number*2\n",
        "\n",
        "# Print double functions\n",
        "print(double)\n",
        "\n",
        "# Create function list\n",
        "myfns = [math.sqrt, int, double, math.cos]\n",
        "\n",
        "# Iterate all functions in the list and print them\n",
        "for function in myfns:\n",
        "  print(function(3.14))\n",
        "\n",
        "\n"
      ]
    }
  ]
}